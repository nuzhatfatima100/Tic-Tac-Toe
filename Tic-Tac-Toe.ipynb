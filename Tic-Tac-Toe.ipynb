{
 "cells": [
  {
   "cell_type": "code",
   "execution_count": 2,
   "id": "d08a7630-892d-42e6-a9b3-ccaa38f6bae1",
   "metadata": {},
   "outputs": [],
   "source": [
    "from IPython.display import clear_output\n"
   ]
  },
  {
   "cell_type": "code",
   "execution_count": 3,
   "id": "46c547d9-befd-4ef0-84b0-cb866ac768c0",
   "metadata": {},
   "outputs": [],
   "source": [
    "def display_board(board):\n",
    "    clear_output()  # Remember, this only works in jupyter!\n",
    "    \n",
    "    print('   |   |')\n",
    "    print(' ' + board[7] + ' | ' + board[8] + ' | ' + board[9])\n",
    "    print('   |   |')\n",
    "    print('-----------')\n",
    "    print('   |   |')\n",
    "    print(' ' + board[4] + ' | ' + board[5] + ' | ' + board[6])\n",
    "    print('   |   |')\n",
    "    print('-----------')\n",
    "    print('   |   |')\n",
    "    print(' ' + board[1] + ' | ' + board[2] + ' | ' + board[3])\n",
    "    print('   |   |')"
   ]
  },
  {
   "cell_type": "code",
   "execution_count": 4,
   "id": "1bf96fcb-0ea9-4fd1-9d39-4816e922ccfb",
   "metadata": {},
   "outputs": [
    {
     "name": "stdout",
     "output_type": "stream",
     "text": [
      "   |   |\n",
      " X | O | X\n",
      "   |   |\n",
      "-----------\n",
      "   |   |\n",
      " O | X | O\n",
      "   |   |\n",
      "-----------\n",
      "   |   |\n",
      " X | O | X\n",
      "   |   |\n"
     ]
    }
   ],
   "source": [
    "test_board = ['#','X','O','X','O','X','O','X','O','X']\n",
    "display_board(test_board)"
   ]
  },
  {
   "cell_type": "code",
   "execution_count": 5,
   "id": "b5f0c754-3c52-4c2b-895e-3ba7ce616a15",
   "metadata": {},
   "outputs": [],
   "source": [
    "def user_choice():\n",
    "    choice=' '\n",
    "\n",
    "    while (choice!='X' and choice!='O'):\n",
    "        choice=input(\"Please select one choice('X' or 'O'): \").upper()\n",
    "\n",
    "    if choice=='X':\n",
    "        return ('X','O')\n",
    "    else:\n",
    "        return ('O','X')\n",
    "        "
   ]
  },
  {
   "cell_type": "code",
   "execution_count": 6,
   "id": "525a2bd3-187d-42c4-8a4b-b4f3e21107b9",
   "metadata": {},
   "outputs": [
    {
     "name": "stdin",
     "output_type": "stream",
     "text": [
      "Please select one choice('X' or 'O'):  x\n"
     ]
    },
    {
     "data": {
      "text/plain": [
       "('X', 'O')"
      ]
     },
     "execution_count": 6,
     "metadata": {},
     "output_type": "execute_result"
    }
   ],
   "source": [
    "user_choice()"
   ]
  },
  {
   "cell_type": "code",
   "execution_count": 7,
   "id": "7340838f-ffbf-4bf3-82f4-07195687f405",
   "metadata": {},
   "outputs": [],
   "source": [
    "def position_choice(board,choice,position):\n",
    "    board[position]=choice\n",
    "    "
   ]
  },
  {
   "cell_type": "code",
   "execution_count": 8,
   "id": "fd8a22d2-e96b-447f-bd56-5d94f3e48742",
   "metadata": {},
   "outputs": [
    {
     "name": "stdout",
     "output_type": "stream",
     "text": [
      "   |   |\n",
      " X | $ | X\n",
      "   |   |\n",
      "-----------\n",
      "   |   |\n",
      " O | X | O\n",
      "   |   |\n",
      "-----------\n",
      "   |   |\n",
      " X | O | X\n",
      "   |   |\n"
     ]
    }
   ],
   "source": [
    "position_choice(test_board, '$',8)\n",
    "display_board(test_board)"
   ]
  },
  {
   "cell_type": "code",
   "execution_count": 9,
   "id": "7ecea5f0-32f4-4d51-a5f6-209743c78854",
   "metadata": {},
   "outputs": [],
   "source": [
    "def win_check(board,choice):\n",
    "    return ((board[7]  == board[8] == board[9] == choice) or # across the top\n",
    "    (board[4] == board[5] == board[6] == choice) or # across the middle\n",
    "    (board[1] == board[2] == board[3] == choice) or # across the bottom\n",
    "    (board[7] == board[4] == board[1] == choice) or # down the middle\n",
    "    (board[8] == board[5] == board[2] == choice) or # down the middle\n",
    "    (board[9] == board[6] == board[3] == choice) or # down the right side\n",
    "    (board[7] == board[5] == board[3] == choice) or # diagonal\n",
    "    (board[9] == board[5] == board[1] == choice)) # diagonal"
   ]
  },
  {
   "cell_type": "code",
   "execution_count": 10,
   "id": "bd4a2c22-39cf-4ff6-94f5-d6bf07edc806",
   "metadata": {},
   "outputs": [
    {
     "name": "stdout",
     "output_type": "stream",
     "text": [
      "   |   |\n",
      " X | $ | X\n",
      "   |   |\n",
      "-----------\n",
      "   |   |\n",
      " O | X | O\n",
      "   |   |\n",
      "-----------\n",
      "   |   |\n",
      " X | O | X\n",
      "   |   |\n"
     ]
    },
    {
     "data": {
      "text/plain": [
       "True"
      ]
     },
     "execution_count": 10,
     "metadata": {},
     "output_type": "execute_result"
    }
   ],
   "source": [
    "display_board(test_board)\n",
    "win_check(test_board,'X')"
   ]
  },
  {
   "cell_type": "code",
   "execution_count": 11,
   "id": "320ecdf7-a5cc-4755-9019-6a73204b5989",
   "metadata": {},
   "outputs": [],
   "source": [
    "import random\n",
    "\n",
    "def choose_first():\n",
    "    if random.randint(0, 1) == 0:\n",
    "        return 'Player 2'\n",
    "    else:\n",
    "        return 'Player 1'"
   ]
  },
  {
   "cell_type": "code",
   "execution_count": 12,
   "id": "49452766-145a-490e-b42e-7734ee68b87d",
   "metadata": {},
   "outputs": [
    {
     "data": {
      "text/plain": [
       "'Player 1'"
      ]
     },
     "execution_count": 12,
     "metadata": {},
     "output_type": "execute_result"
    }
   ],
   "source": [
    "choose_first()"
   ]
  },
  {
   "cell_type": "code",
   "execution_count": 13,
   "id": "b747cf5f-f4cb-4bda-a1ac-ef503a12bccb",
   "metadata": {},
   "outputs": [],
   "source": [
    "def space_check(board, position):\n",
    "    \n",
    "    return board[position] == ' '"
   ]
  },
  {
   "cell_type": "code",
   "execution_count": 14,
   "id": "ee92e44a-51d5-4ad0-8b4d-4acd1a6ec6be",
   "metadata": {},
   "outputs": [],
   "source": [
    "def full_board_check(board):\n",
    "    for i in range(1,10):\n",
    "        if space_check(board, i):\n",
    "            return False\n",
    "    return True"
   ]
  },
  {
   "cell_type": "code",
   "execution_count": 15,
   "id": "a089f59f-77da-4104-bab9-7743435c7153",
   "metadata": {},
   "outputs": [],
   "source": [
    "def player_choice(board):\n",
    "    position = 0\n",
    "    \n",
    "    while position not in [1,2,3,4,5,6,7,8,9] or not space_check(board, position):\n",
    "        position = int(input('Choose your next position: (1-9) '))\n",
    "        \n",
    "    return position"
   ]
  },
  {
   "cell_type": "code",
   "execution_count": 16,
   "id": "d3994265-fec9-402f-96fb-a6670a98a666",
   "metadata": {},
   "outputs": [],
   "source": [
    "def replay():\n",
    "    \n",
    "    return input('Do you want to play again? Enter Yes or No: ').lower().startswith('y')"
   ]
  },
  {
   "cell_type": "code",
   "execution_count": null,
   "id": "31dbefc3-8288-4247-a5b4-ebae630de8eb",
   "metadata": {},
   "outputs": [
    {
     "name": "stdout",
     "output_type": "stream",
     "text": [
      "Welcome to Tick Tac Toe!\n"
     ]
    }
   ],
   "source": [
    "print(\"Welcome to Tick Tac Toe!\")\n",
    "\n",
    "while True:\n",
    "    the_board=[' ']*10\n",
    "    player1_choice, player2_choice = user_choice()\n",
    "    turn = choose_first()\n",
    "    print(turn + ' will go first.')\n",
    "\n",
    "    play_game=input('Ready to play? y or n?')\n",
    "    if play_game=='y':\n",
    "        game_on=True\n",
    "\n",
    "    else:\n",
    "        game_on=False\n",
    "\n",
    "    while game_on:\n",
    "        if turn== 'Player_1':\n",
    "            display_board(the_board)\n",
    "            position=player_choice(the_board)\n",
    "            position_choice(the_board,player1_choice,position)\n",
    "            if win_check(the_board,player1_choice):\n",
    "                display_board(the_board)\n",
    "                print('Player 1 has won!')\n",
    "                game_on=False\n",
    "\n",
    "            else:\n",
    "                if full_board_check(the_board):\n",
    "                    display_board(the_board)\n",
    "                    print('Tie Game!')\n",
    "                    game_on=False\n",
    "\n",
    "                else:\n",
    "                    turn= 'Player_2'\n",
    "                \n",
    "        else:\n",
    "            turn== 'Player_2'\n",
    "            display_board(the_board)\n",
    "            position=player_choice(the_board)\n",
    "            position_choice(the_board,player1_choice,position)\n",
    "            if win_check(the_board,player2_choice):\n",
    "                display_board(the_board)\n",
    "                print('Player 2 has won!')\n",
    "                game_on=False\n",
    "\n",
    "            else:\n",
    "                if full_board_check(the_board):\n",
    "                    display_board(the_board)\n",
    "                    print('Tie Game!')\n",
    "                    game_on=False\n",
    "\n",
    "                else:\n",
    "                    turn= 'Player_1'\n",
    "\n",
    "    if not replay():\n",
    "        break\n",
    "            \n",
    "            \n",
    "        \n",
    "        \n",
    "        \n",
    "\n",
    "\n",
    "    \n",
    "\n"
   ]
  },
  {
   "cell_type": "code",
   "execution_count": null,
   "id": "1f11c924-2e8c-47c6-aefc-7aeb594e9cb5",
   "metadata": {},
   "outputs": [],
   "source": []
  }
 ],
 "metadata": {
  "kernelspec": {
   "display_name": "Python 3 (ipykernel)",
   "language": "python",
   "name": "python3"
  },
  "language_info": {
   "codemirror_mode": {
    "name": "ipython",
    "version": 3
   },
   "file_extension": ".py",
   "mimetype": "text/x-python",
   "name": "python",
   "nbconvert_exporter": "python",
   "pygments_lexer": "ipython3",
   "version": "3.11.7"
  }
 },
 "nbformat": 4,
 "nbformat_minor": 5
}
